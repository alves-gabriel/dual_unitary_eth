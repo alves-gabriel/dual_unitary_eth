{
 "cells": [
  {
   "cell_type": "code",
   "execution_count": 5,
   "id": "fbc29163-7173-4739-ad41-3c736100e47a",
   "metadata": {},
   "outputs": [],
   "source": [
    "# Custom libraries/external files\n",
    "import src.dual_unitary as du\n",
    "import numpy as np"
   ]
  },
  {
   "cell_type": "markdown",
   "id": "e0073a20-9133-49ff-8797-52daba65d776",
   "metadata": {},
   "source": [
    "#### Testing"
   ]
  },
  {
   "cell_type": "markdown",
   "id": "f309517d-1aa8-4cc1-8546-89996ba6bae7",
   "metadata": {},
   "source": [
    "Testing can be run with:\n",
    "\n",
    "```\n",
    "pytest du_circuits/test/du_test.py\n",
    "```\n",
    "\n",
    "while in the main folder. Or, to test an specific class in the test file, such as 'TestCircuit':\n",
    "\n",
    "```\n",
    "pytest du_circuits/test/du_test.py::TestCircuit\n",
    "```"
   ]
  },
  {
   "cell_type": "markdown",
   "id": "46cb7c30-a508-4322-a98c-ea86b054e03f",
   "metadata": {},
   "source": [
    "#### Running functions"
   ]
  },
  {
   "cell_type": "code",
   "execution_count": 7,
   "id": "f5807b5f-1f9b-4b55-b483-3ea05e9550a7",
   "metadata": {},
   "outputs": [
    {
     "data": {
      "text/plain": [
       "array([[0.70710678+0.70710678j, 0.        +0.j        ,\n",
       "        0.        +0.j        , 0.        +0.j        ],\n",
       "       [0.        +0.j        , 0.        +0.j        ,\n",
       "        1.        +0.j        , 0.        +0.j        ],\n",
       "       [0.        +0.j        , 1.        +0.j        ,\n",
       "        0.        +0.j        , 0.        +0.j        ],\n",
       "       [0.        +0.j        , 0.        +0.j        ,\n",
       "        0.        +0.j        , 1.        +0.j        ]])"
      ]
     },
     "execution_count": 7,
     "metadata": {},
     "output_type": "execute_result"
    }
   ],
   "source": [
    "du.dual_unitary_cphase(np.pi/4)"
   ]
  },
  {
   "cell_type": "code",
   "execution_count": 9,
   "id": "819a087d-3b06-463b-8bed-155986728aed",
   "metadata": {},
   "outputs": [
    {
     "data": {
      "text/plain": [
       "array([2, 4, 1, 6, 3, 7, 5])"
      ]
     },
     "execution_count": 9,
     "metadata": {},
     "output_type": "execute_result"
    }
   ],
   "source": [
    "du.permutator([1, 2, 3, 4, 5, 6, 7])"
   ]
  },
  {
   "cell_type": "code",
   "execution_count": 10,
   "id": "cd6b0cc0-752a-452e-9dbf-57a974aaf2f8",
   "metadata": {},
   "outputs": [
    {
     "data": {
      "text/plain": [
       "array([0.4472136 +0.j        , 0.39847023+0.20303072j,\n",
       "       0.44170765+0.06995962j, 0.3618034 +0.26286556j,\n",
       "       0.4253254 +0.1381966j ])"
      ]
     },
     "execution_count": 10,
     "metadata": {},
     "output_type": "execute_result"
    }
   ],
   "source": [
    "du.circuit_eigenstate(np.pi/4, 0, [1, 1, 0, 0, 0])"
   ]
  }
 ],
 "metadata": {
  "kernelspec": {
   "display_name": "Python 3 (ipykernel)",
   "language": "python",
   "name": "python3"
  },
  "language_info": {
   "codemirror_mode": {
    "name": "ipython",
    "version": 3
   },
   "file_extension": ".py",
   "mimetype": "text/x-python",
   "name": "python",
   "nbconvert_exporter": "python",
   "pygments_lexer": "ipython3",
   "version": "3.12.10"
  },
  "scenes_data": {
   "active_scene": "Default Scene",
   "init_scene": "",
   "scenes": [
    "Default Scene"
   ]
  }
 },
 "nbformat": 4,
 "nbformat_minor": 5
}
