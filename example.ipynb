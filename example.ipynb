{
 "cells": [
  {
   "cell_type": "markdown",
   "id": "aa58160c-3ff8-47f5-8efe-55c23ce19ee2",
   "metadata": {},
   "source": [
    "# **<span style=\"color:rgba(220, 20, 60, 1);\"> Full ETH in Dual Unitary Circuits</span>**"
   ]
  },
  {
   "cell_type": "markdown",
   "id": "a97dd9ba-2723-40e5-8086-df94bf498206",
   "metadata": {},
   "source": [
    "## Initialization"
   ]
  },
  {
   "cell_type": "markdown",
   "id": "2c09f0e4-b4ae-4d6d-b710-c1ecff42892d",
   "metadata": {},
   "source": [
    "**HTML and CSS** - **Run the cell below to get the correct formatting**:"
   ]
  },
  {
   "cell_type": "code",
   "execution_count": 2,
   "id": "2f6c7286-8929-4aa5-8798-8d417ed5175b",
   "metadata": {
    "jupyter": {
     "source_hidden": true
    },
    "scene__Default Scene": true,
    "tags": [
     "ActiveScene"
    ]
   },
   "outputs": [
    {
     "data": {
      "text/html": [
       "<!-- Colors: https://encycolorpedia.com/-->\n",
       "<!-- commutatorents ommited due to a bug in Jupyter-->\n",
       "\n",
       "<style>\n",
       "\n",
       "    h1 { \n",
       "        font-size: 30px; \n",
       "        color: rgba(220, 20, 60, 1) !important;  \n",
       "    }\n",
       "\n",
       "    h2 {\n",
       "     font-size: 25px;\n",
       "     color: rgba(255, 140, 0, 1); /* Orange */\t\t \n",
       "    }\t \n",
       "\n",
       "    h3 {\n",
       "     font-size: 20px;\n",
       "     color:rgba(204, 85, 0, 1); /* Dark orange */\t\t \n",
       "    }\t \n",
       "\n",
       "    td {\n",
       "      text-align: center;\n",
       "    }\n",
       "\n",
       "    div.highlight_red {    \n",
       "        background-color: rgba(179, 0, 0, .1);\n",
       "        background-opacity : 0.5;\n",
       "        }\n",
       "\n",
       "    div.highlight_red .title_box {\n",
       "        background-color: rgba(179, 0, 0, .6);\n",
       "        width: 100%;\n",
       "    }\n",
       "\n",
       "    div.highlight_green {    \n",
       "        background-color: rgba(\t19, 98, 7, .1);\n",
       "        background-opacity : 0.5;\n",
       "        }\n",
       "\n",
       "    div.highlight_green .title_box {\n",
       "        background-color: rgba(\t19, 130, 7, .6);\n",
       "        width: 100%;\n",
       "    }\n",
       "\n",
       "    div.highlight_turquoise {    \n",
       "        background-color: rgba(\t40, 154, 164, .1);\n",
       "        background-opacity : 0.5;\n",
       "        }\n",
       "\n",
       "    div.highlight_turquoise .title_box {\n",
       "        background-color: rgba(\t40, 154, 164, .6);\n",
       "        width: 100%;\n",
       "    }\n",
       "\n",
       "    div.highlight_purple {    \n",
       "        background-color: rgba(120, 81, 169, .1);\n",
       "        background-opacity : 0.5;\n",
       "        }\n",
       "\n",
       "    div.highlight_purple .title_box {\n",
       "        background-color: rgba(120, 81, 169, .6);\n",
       "        width: 100%;\n",
       "    }\n",
       "\n",
       "    div.highlight_blue {    \n",
       "        background-color: rgba(\t65, 105, 225, .1);\n",
       "        background-opacity : 0.5;\n",
       "    }\n",
       "\n",
       "    div.highlight_blue .title_box {\n",
       "        background-color: rgba(\t65, 105, 225, .6);\n",
       "        width: 100%;\n",
       "    }\n",
       "\n",
       "    .title{\n",
       "        text-indent: 1%;\n",
       "        padding: .25em;\n",
       "        font-weight: bold;\n",
       "        font-size: 18px;\n",
       "        color : white;\n",
       "    }\n",
       "\n",
       "    .content{\n",
       "        text-indent: 2%;\n",
       "        padding: 1em;\n",
       "        font-size: 14px;\n",
       "    }\n",
       "\n",
       "</style>\n"
      ],
      "text/plain": [
       "<IPython.core.display.HTML object>"
      ]
     },
     "metadata": {},
     "output_type": "display_data"
    }
   ],
   "source": [
    "%%html\n",
    "<!-- Colors: https://encycolorpedia.com/-->\n",
    "<!-- commutatorents ommited due to a bug in Jupyter-->\n",
    "\n",
    "<style>\n",
    "\n",
    "    h1 { \n",
    "        font-size: 30px; \n",
    "        color: rgba(220, 20, 60, 1) !important;  \n",
    "    }\n",
    "\n",
    "    h2 {\n",
    "     font-size: 25px;\n",
    "     color: rgba(255, 140, 0, 1); /* Orange */\t\t \n",
    "    }\t \n",
    "\n",
    "    h3 {\n",
    "     font-size: 20px;\n",
    "     color:rgba(204, 85, 0, 1); /* Dark orange */\t\t \n",
    "    }\t \n",
    "        \n",
    "    td {\n",
    "      text-align: center;\n",
    "    }\n",
    "\n",
    "    div.highlight_red {    \n",
    "        background-color: rgba(179, 0, 0, .1);\n",
    "        background-opacity : 0.5;\n",
    "        }\n",
    "\n",
    "    div.highlight_red .title_box {\n",
    "        background-color: rgba(179, 0, 0, .6);\n",
    "        width: 100%;\n",
    "    }\n",
    "\n",
    "    div.highlight_green {    \n",
    "        background-color: rgba(\t19, 98, 7, .1);\n",
    "        background-opacity : 0.5;\n",
    "        }\n",
    "\n",
    "    div.highlight_green .title_box {\n",
    "        background-color: rgba(\t19, 130, 7, .6);\n",
    "        width: 100%;\n",
    "    }\n",
    "\n",
    "    div.highlight_turquoise {    \n",
    "        background-color: rgba(\t40, 154, 164, .1);\n",
    "        background-opacity : 0.5;\n",
    "        }\n",
    "\n",
    "    div.highlight_turquoise .title_box {\n",
    "        background-color: rgba(\t40, 154, 164, .6);\n",
    "        width: 100%;\n",
    "    }\n",
    "\n",
    "    div.highlight_purple {    \n",
    "        background-color: rgba(120, 81, 169, .1);\n",
    "        background-opacity : 0.5;\n",
    "        }\n",
    "\n",
    "    div.highlight_purple .title_box {\n",
    "        background-color: rgba(120, 81, 169, .6);\n",
    "        width: 100%;\n",
    "    }\n",
    "\n",
    "    div.highlight_blue {    \n",
    "        background-color: rgba(\t65, 105, 225, .1);\n",
    "        background-opacity : 0.5;\n",
    "    }\n",
    "\n",
    "    div.highlight_blue .title_box {\n",
    "        background-color: rgba(\t65, 105, 225, .6);\n",
    "        width: 100%;\n",
    "    }\n",
    "\n",
    "    .title{\n",
    "        text-indent: 1%;\n",
    "        padding: .25em;\n",
    "        font-weight: bold;\n",
    "        font-size: 18px;\n",
    "        color : white;\n",
    "    }\n",
    "\n",
    "    .content{\n",
    "        text-indent: 2%;\n",
    "        padding: 1em;\n",
    "        font-size: 14px;\n",
    "    }\n",
    "\n",
    "</style>"
   ]
  },
  {
   "cell_type": "markdown",
   "id": "d85ed493-1ea4-4424-b2df-08d8bc09e309",
   "metadata": {
    "jp-MarkdownHeadingCollapsed": true
   },
   "source": [
    "### Installation"
   ]
  },
  {
   "cell_type": "markdown",
   "id": "99f25054-eb95-417b-8235-1f577ed7876d",
   "metadata": {},
   "source": [
    "<div class=warn>\n",
    "To properly run this notebook, install matplotlib and, if necessary, Jupyter lab.\n",
    "</div>"
   ]
  },
  {
   "cell_type": "markdown",
   "id": "ba306002-b7cd-4b89-830f-85d837e0adeb",
   "metadata": {},
   "source": [
    "- Install conda:\n",
    "\n",
    "```\n",
    "conda create --name eth_env\n",
    "conda activate eth_env\n",
    "```\n",
    "\n",
    "- Install the packages:\n",
    "\n",
    "```\n",
    "conda install -c conda-forge jupyterlab matplotlib  cipy; \n",
    "```"
   ]
  },
  {
   "cell_type": "markdown",
   "id": "8504330f-4ae5-4afb-94b6-e7ffb5c17b1a",
   "metadata": {},
   "source": [
    "- Finally, a lot of important functions pertaining the FP computations are found in the ```cumulants.py``` file. Functions and routines for the (integrable) DU circuit can be found in the folder ```du_circuits```"
   ]
  },
  {
   "cell_type": "markdown",
   "id": "256b7396-55d0-4773-913b-8405ae91e4fe",
   "metadata": {
    "jp-MarkdownHeadingCollapsed": true
   },
   "source": [
    "### Packages"
   ]
  },
  {
   "cell_type": "code",
   "execution_count": 3,
   "id": "bdc975b6-218b-4433-8005-c0eef0d2e4a7",
   "metadata": {
    "scene__Default Scene": true,
    "tags": [
     "ActiveScene"
    ]
   },
   "outputs": [],
   "source": [
    "%matplotlib inline\n",
    "\n",
    "#Load necessary packages\n",
    "import math\n",
    "import itertools\n",
    "import numpy as np \n",
    "import scipy as scp\n",
    "import matplotlib\n",
    "import matplotlib.pyplot as plt\n",
    "from scipy.linalg import eigh, expm \n",
    "from scipy import stats\n",
    "from functools import reduce\n",
    "from functools import partial as partial_fun\n",
    "import operator\n",
    "\n",
    "# Custom libraries/external files\n",
    "import random_matrix as rmt\n",
    "import quantum_many_body as qmb\n",
    "from  quantum_many_body import pauli_matrices as sigma\n",
    "import random_circuits as rc\n",
    "import du_circuits.src.dual_unitary as du\n",
    "import free_probability as fp\n",
    "from utils import *"
   ]
  },
  {
   "cell_type": "markdown",
   "id": "74f11c2b-4222-4cce-b290-7e5a79756e4b",
   "metadata": {},
   "source": [
    "## A minimal example"
   ]
  },
  {
   "cell_type": "markdown",
   "id": "6a335271-fc7b-4963-8c71-8d4216d84e0f",
   "metadata": {},
   "source": [
    "### Otoc decomposition"
   ]
  },
  {
   "cell_type": "code",
   "execution_count": 4,
   "id": "4a95ee0f-efcd-4463-b704-f51be12b89f3",
   "metadata": {},
   "outputs": [],
   "source": [
    "# Fixed SU2 disorders\n",
    "np.random.seed(0) \n",
    "u1 = scp.stats.unitary_group.rvs(2)\n",
    "u2 = scp.stats.unitary_group.rvs(2)\n",
    "\n",
    "# We fix system size and anisotropy\n",
    "L = 7\n",
    "Jz = 1/np.sqrt(10)\n",
    "t_lst = np.arange(8)"
   ]
  },
  {
   "cell_type": "markdown",
   "id": "4635be9e-8767-4683-8a08-e0438d472ed5",
   "metadata": {},
   "source": [
    "We can create the floquet operator with routines in the file `random_circuits`. Note that the routines in the file look somewhat complicated due to their generality. Applying a simple brickwork structure is very simple and can be done even without this file \"by hand\". \n",
    "\n",
    "Meanwhile, we pass unitaries to the class `FreeModel` in the file `free_probability`. This class handles the models/computation of diagrams.\n",
    "\n",
    "We thus have:"
   ]
  },
  {
   "cell_type": "code",
   "execution_count": 5,
   "id": "497f1e49-c839-45ba-b762-81f79f6709d7",
   "metadata": {},
   "outputs": [
    {
     "data": {
      "text/plain": [
       "<free_probability.FreeModel at 0x149ae48909b0>"
      ]
     },
     "execution_count": 5,
     "metadata": {},
     "output_type": "execute_result"
    }
   ],
   "source": [
    "unitary = rc.floquet_operator(L, U = rc.dual_unitary(J=Jz, u_tuples=(u1, u2, sigma.Id, sigma.Id)), periodic=False)\n",
    "model = fp.FreeModel(unitary, unitary=True).diagonalize_operator(rc.op_local_circuit(L, op = sigma.Z), sorted_eigs=True)\n",
    "model"
   ]
  },
  {
   "cell_type": "markdown",
   "id": "7ad7a2cc-5366-4a3f-a4f3-1d13e156da22",
   "metadata": {},
   "source": [
    "For details, see:"
   ]
  },
  {
   "cell_type": "code",
   "execution_count": 6,
   "id": "e600fb05-b796-46b7-9b41-88faea1f4853",
   "metadata": {
    "scrolled": true
   },
   "outputs": [
    {
     "name": "stdout",
     "output_type": "stream",
     "text": [
      "Help on class FreeModel in module free_probability:\n",
      "\n",
      "class FreeModel(builtins.object)\n",
      " |  FreeModel(model, unitary=True)\n",
      " |\n",
      " |  Calculates the cumulants from FP theory and relevant quantities for Quantum Chaos\n",
      " |\n",
      " |  Methods defined here:\n",
      " |\n",
      " |  __init__(self, model, unitary=True)\n",
      " |      Initialize self.  See help(type(self)) for accurate signature.\n",
      " |\n",
      " |  compute_K2(self, t)\n",
      " |      Vectorizes the method.\n",
      " |\n",
      " |  compute_K2_freq(self, w)\n",
      " |      Vectorizes the method.\n",
      " |\n",
      " |  compute_K4(self, t)\n",
      " |      Vectorizes the method.\n",
      " |\n",
      " |  compute_K4_freq(self, w1, w2=None, w3=None)\n",
      " |      Vectorizes the method.\n",
      " |\n",
      " |  compute_K4_mixed(self, op_lst, t_lst)\n",
      " |\n",
      " |  compute_OTOC(self, t)\n",
      " |      Vectorizes the method.\n",
      " |\n",
      " |  compute_OTOC_freq(self, w1, w2=None, w3=None)\n",
      " |      Vectorizes the method.\n",
      " |\n",
      " |  compute_OTOC_mixed(self, op_lst, t_lst)\n",
      " |      Evaluates the OTOC <A_1(t_1) A_2(t_2) ... A_q(t_q)>.\n",
      " |\n",
      " |  compute_cactus(self, t1, t2=None)\n",
      " |      Vectorizes the method.\n",
      " |\n",
      " |  compute_cactus_freq(self, w1, w2=None)\n",
      " |      Vectorizes the method.\n",
      " |\n",
      " |  compute_cactus_mixed(self, op_lst, t_lst)\n",
      " |\n",
      " |  compute_crossing(self, t)\n",
      " |      Vectorizes the method\n",
      " |\n",
      " |  compute_crossing_freq(self, w)\n",
      " |      Vectorizes the method.\n",
      " |\n",
      " |  compute_crossing_mixed(self, op_lst, t_lst)\n",
      " |      Evaluates the crossing diagrams k2(t):=Σ |A_{ij}|^4.\n",
      " |\n",
      " |  diagonalize(self)\n",
      " |      Diagonalizes the unitary/Hamiltonian\n",
      " |\n",
      " |  diagonalize_operator(self, op, delete_diagonal=True, sorted_eigs=False, truncate=None)\n",
      " |      Evaluates A_{mn} and  ω_{ij}, which are used in the calculation\n",
      " |      of the cumulants. I.e., expresses the operator and the frequencies\n",
      " |      in the eigenbasis of the model.\n",
      " |\n",
      " |      Parameters\n",
      " |      ----------\n",
      " |\n",
      " |      op : array\n",
      " |          D x D operator of interest in the computational basis.\n",
      " |\n",
      " |      model : array\n",
      " |          Floquet operator/unitary evolution/Hamiltonian.\n",
      " |\n",
      " |      unitaryEvol : bool, optional\n",
      " |          ω_{ij} is defined as ω_{ij} := φ_i - φ_j when true and\n",
      " |                            as ω_{ij} := E_i - E_j when false.\n",
      " |\n",
      " |      sorted: bool, optional\n",
      " |          Sorts the eigenspectrum and, correspondingly, the eigenstates\n",
      " |\n",
      " |      Returns\n",
      " |      -------\n",
      " |\n",
      " |      (A, omega) : (array, array)\n",
      " |          Returns the operator in the eigenbasis, denoted by A_{mn}\n",
      " |          and the eigenspectra (differences) ω_{ij}.\n",
      " |\n",
      " |  factorization_ratio(self, t=0)\n",
      " |      Evaluates factorization parameter r(t) := cactus(t)/|k_2(t)|².\n",
      " |      If t=None computes r(t) for the current time\n",
      " |\n",
      " |  get_level_statistics(self)\n",
      " |      Evaluates the level spacing (+ ratio) distribution\n",
      " |\n",
      " |      Returns\n",
      " |      -------\n",
      " |\n",
      " |      ([s_i], [r_i]) : (array, array)\n",
      " |          A tuple with two arrays. The first one contains the level spagin distribution s_i, while the second one\n",
      " |          contains the corresponding distribution for the ratio r_i.\n",
      " |\n",
      " |  plotETH(self, t_lst, show_cactus=False, show_crossing=False)\n",
      " |      Plots the OTOCs and the diagrams for the model as a function of time.\n",
      " |\n",
      " |      Parameters\n",
      " |      ----------\n",
      " |\n",
      " |      t_lst : array\n",
      " |          List of points in time where the evaluations should be performed.\n",
      " |\n",
      " |      show_cactus : bool , optional.\n",
      " |          Computes the cacus diagram cac(t, t)\n",
      " |\n",
      " |      show_crossing : bool, optional\n",
      " |          Computes the crossing partition.\n",
      " |\n",
      " |  ----------------------------------------------------------------------\n",
      " |  Data descriptors defined here:\n",
      " |\n",
      " |  __dict__\n",
      " |      dictionary for instance variables\n",
      " |\n",
      " |  __weakref__\n",
      " |      list of weak references to the object\n",
      "\n"
     ]
    }
   ],
   "source": [
    "help(fp.FreeModel)"
   ]
  },
  {
   "cell_type": "markdown",
   "id": "07428dee-427b-4500-a0f1-ca4453482531",
   "metadata": {},
   "source": [
    "We can then choose which diagrams to compute:"
   ]
  },
  {
   "cell_type": "code",
   "execution_count": 9,
   "id": "a1123d5e-e3c9-49e0-b34e-82bbac0a53dd",
   "metadata": {},
   "outputs": [],
   "source": [
    "diagrams = ['compute_OTOC', 'compute_K2', 'compute_K4', 'compute_crossing', 'compute_cactus']\n",
    "diagram_results = [getattr(model, diagram)(t_lst) for diagram in diagrams]\n",
    "otoc, k2, k4, crossing, cactus = diagram_results"
   ]
  },
  {
   "cell_type": "markdown",
   "id": "6041901b-f5f2-4c23-a552-c83374bf8ed1",
   "metadata": {},
   "source": [
    "We can see the decomposition of OTOCs:"
   ]
  },
  {
   "cell_type": "code",
   "execution_count": 17,
   "id": "97cd4b73-ad26-4657-9e70-dc1bdc7623a8",
   "metadata": {},
   "outputs": [
    {
     "name": "stderr",
     "output_type": "stream",
     "text": [
      "/u/alvesgo/conda-envs/qrc_env/lib/python3.12/site-packages/matplotlib/cbook.py:1719: ComplexWarning: Casting complex values to real discards the imaginary part\n",
      "  return math.isfinite(val)\n",
      "/u/alvesgo/conda-envs/qrc_env/lib/python3.12/site-packages/matplotlib/cbook.py:1355: ComplexWarning: Casting complex values to real discards the imaginary part\n",
      "  return np.asarray(x, float)\n"
     ]
    },
    {
     "data": {
      "image/png": "[encoded data removed]",
      "text/plain": [
       "<Figure size 400x400 with 2 Axes>"
      ]
     },
     "metadata": {},
     "output_type": "display_data"
    }
   ],
   "source": [
    "from matplotlib.patches import ConnectionPatch\n",
    "\n",
    "fig, ax = plt.subplots(figsize=(4, 4), nrows=2, sharex=True)\n",
    "\n",
    "\n",
    "# Plotting the diagrams\n",
    "ax[0].plot(2*k2**2, label=r\"$2\\kappa_2^{\\mathrm{ETH}}(t)^2$\", color='#6F86E6', marker = \"d\", markeredgecolor=\"black\")\n",
    "ax[0].plot(k4, label=r\"$\\kappa_4^{\\mathrm{ETH}}(t)$\", color='#91C85A', marker = \"d\", markeredgecolor=\"black\")\n",
    "ax[0].plot(otoc, label=r\"OTOC\", color='#e6aa5c', marker = \"d\", markeredgecolor=\"black\")\n",
    "ax[0].plot(k4 + 2*k2**2, label=r\"$\\kappa_4^{\\mathrm{ETH}}(t) + 2[\\kappa_2^{\\mathrm{ETH}}(t)]^2$\", color=\"black\", linestyle=\"dotted\")\n",
    "\n",
    "# Plotting the diagrams\n",
    "ax[1].plot(np.abs(k4), color='#91C85A', marker = \"d\", markeredgecolor=\"black\")\n",
    "ax[1].plot(2*k2**2, color='#6F86E6', marker = \"d\", markeredgecolor=\"black\")\n",
    "ax[1].plot(np.abs(cactus), label=r\"Cactus\", color='#9C5DDB', marker = \"o\", markeredgecolor=\"black\")\n",
    "ax[1].plot(np.abs(crossing), label=r\"Crossing\", color=\"#CC5956\", marker=\"x\")\n",
    "\n",
    "# Labels\n",
    "ax[1].set_xlabel(r\"$t$\")\n",
    "\n",
    "# Scale\n",
    "ax[1].set_yscale('log')\n",
    "\n",
    "# Legend\n",
    "legend_0 = ax[0].legend(bbox_to_anchor=(1.02, 0.5), loc=\"center left\", fontsize=10)\n",
    "legend_1 =ax[1].legend(bbox_to_anchor=(1.02, 0.5), loc=\"center left\", fontsize=10)\n",
    "\n",
    "# Y ticks\n",
    "ax[1].set_yticks([1, 1e-3, 1e-6, 1e-9])   \n",
    "ax[1].set_yticklabels(['$1$', '$10^{-3}$', '$10^{-6}$', '$10^{-9}$'])\n",
    "\n",
    "# Legend title size\n",
    "plt.setp(legend_0.get_title(),fontsize=18)\n",
    "plt.setp(legend_1.get_title(),fontsize=18)\n",
    "\n",
    "plt.show()"
   ]
  },
  {
   "cell_type": "markdown",
   "id": "e5aa814f-fb05-4642-ac34-a335af5b945a",
   "metadata": {},
   "source": [
    "### Integrability and charges"
   ]
  },
  {
   "cell_type": "markdown",
   "id": "b04eddf4-43d1-478f-8416-2d343a8d636c",
   "metadata": {},
   "source": [
    "Similarly, we can run the circuit in the integral configuration, where it is comprised solely of controlled-phase and SWAP gates:"
   ]
  },
  {
   "cell_type": "code",
   "execution_count": 18,
   "id": "ee8862e5-ebd3-4676-96fa-851242d7c9d8",
   "metadata": {},
   "outputs": [
    {
     "data": {
      "text/plain": [
       "<free_probability.FreeModel at 0x149adb070dd0>"
      ]
     },
     "execution_count": 18,
     "metadata": {},
     "output_type": "execute_result"
    }
   ],
   "source": [
    "# Parameters\n",
    "L = 5\n",
    "phi = np.pi/5\n",
    "\n",
    "# Circuit with eps = 0 \n",
    "U_analytical = rc.floquet_operator(L, U = du.dual_unitary_cphase(phi).reshape(2, 2, 2, 2), periodic=False)\n",
    "\n",
    "# Local operator in the middle of the chain\n",
    "Zx = rc.op_local_circuit(L, op = sigma.Z) \n",
    "\n",
    "# Sets up the model, diagonalization the operator. DELETES the diagonal\n",
    "remove_diagonal = True\n",
    "analytical_model = fp.FreeModel(U_analytical, unitary=True)\n",
    "analytical_model.diagonalize_operator(Zx, delete_diagonal=remove_diagonal)"
   ]
  },
  {
   "cell_type": "markdown",
   "id": "2a9d1ce5-8766-49ab-b5ac-d8cf04627efd",
   "metadata": {},
   "source": [
    "We choose the sector which has ${\\bf{b}} = (1, 1, 0, 1, 0)$ as a representative state. We have the states (and) transitions:\n",
    "\n",
    "- ${\\bf{b}} = (1, 1, 0, 1, 0)$\n",
    "- $\\pi({\\bf{b}}) = (1, 1, 1, 0, 0)$\n",
    "- $\\pi^2({\\bf{b}}) = (1, 0, 1, 0, 1)$\n",
    "- $\\pi^3({\\bf{b}}) = (0, 0, 1, 1, 1)$\n",
    "- $\\pi^4({\\bf{b}}) = (0, 1, 0, 1, 1)$"
   ]
  },
  {
   "cell_type": "code",
   "execution_count": 20,
   "id": "81a6cb63-78e8-430e-ac7b-ac18a079633d",
   "metadata": {
    "scene__Default Scene": true,
    "tags": [
     "ActiveScene"
    ]
   },
   "outputs": [],
   "source": [
    "def sector_states(bitstring):\n",
    "    \"\"\"Gets all the quantum states associated with a sector\"\"\"\n",
    "    \n",
    "    states = []\n",
    "\n",
    "    # Loops over the permutations\n",
    "    for _ in range(len(bitstring)):\n",
    "        states.append(qmb.state_from_spin(bitstring))\n",
    "        bitstring = du.permutator(bitstring)\n",
    "\n",
    "    return states"
   ]
  },
  {
   "cell_type": "code",
   "execution_count": 21,
   "id": "061afd07-b22c-4a14-a363-853761be0c66",
   "metadata": {},
   "outputs": [],
   "source": [
    "# Picks the representative state for a sector\n",
    "representative_state = np.array([1, 1, 0, 1, 0])\n",
    "\n",
    "# States in the sector\n",
    "eig_state_lst = sector_states(representative_state)\n",
    "\n",
    "# Associated projector\n",
    "projector = np.array(eig_state_lst)"
   ]
  },
  {
   "cell_type": "markdown",
   "id": "029587c7-0a3d-4758-a183-5b5a64523ad5",
   "metadata": {},
   "source": [
    "The projected sector $U_{\\bf b}$ is:"
   ]
  },
  {
   "cell_type": "code",
   "execution_count": 22,
   "id": "18384b25-8251-4e11-a5c9-5237b7efd7e4",
   "metadata": {},
   "outputs": [
    {
     "name": "stdout",
     "output_type": "stream",
     "text": [
      "0.00+0.00j 0.00+0.00j 0.00+0.00j 0.00+0.00j 1.00+0.00j \n",
      "0.31+0.95j 0.00+0.00j 0.00+0.00j 0.00+0.00j 0.00+0.00j \n",
      "0.00+0.00j 0.81+0.59j 0.00+0.00j 0.00+0.00j 0.00+0.00j \n",
      "0.00+0.00j 0.00+0.00j 0.81+0.59j 0.00+0.00j 0.00+0.00j \n",
      "0.00+0.00j 0.00+0.00j 0.00+0.00j 0.31+0.95j 0.00+0.00j \n"
     ]
    }
   ],
   "source": [
    "# Projection on the aforementioned sector\n",
    "U_sector = projector@U_analytical@projector.conj().T\n",
    "pretty_print(U_sector)"
   ]
  },
  {
   "cell_type": "markdown",
   "id": "cdbcbf55-3cd5-423c-836a-8af3db7c867b",
   "metadata": {},
   "source": [
    "Which means that the state $(0, 1, 0, 1, 1)$ does *not* pick up a phase, but all the other do!\n",
    "\n",
    "The analytical predictions match:"
   ]
  },
  {
   "cell_type": "code",
   "execution_count": 23,
   "id": "34203a9f-2f83-4c5a-967a-780f8ec3e9f1",
   "metadata": {},
   "outputs": [
    {
     "data": {
      "image/png": "[encoded data removed]",
      "text/plain": [
       "<Figure size 640x480 with 1 Axes>"
      ]
     },
     "metadata": {},
     "output_type": "display_data"
    }
   ],
   "source": [
    "# Analytical predictions\n",
    "analytical_quasienergies = du.quasi_energies(phi, representative_state)\n",
    "\n",
    "# Builds the model for that and diagonalized the projected operator\n",
    "analytical_model_sector = fp.FreeModel(U_sector, unitary=True)\n",
    "analytical_model_sector.diagonalize_operator(projector@Zx@projector.conj().T, delete_diagonal=False)\n",
    "numerical_eigenvalues, numerical_eigenstates = analytical_model_sector.diagonalization\n",
    "\n",
    "# Eigenvalues\n",
    "fig, ax = qmb.plot_quasienergies(numerical_eigenvalues, s=100, alpha=0.8, zorder=2)\n",
    "ax.scatter(analytical_quasienergies.real, analytical_quasienergies.imag, marker='x', s=300, color=\"red\")\n",
    "fig.show()"
   ]
  },
  {
   "cell_type": "markdown",
   "id": "53319dfd-2048-4bd9-85e1-6fc5c6368529",
   "metadata": {},
   "source": [
    "Here we can see the multiplicity of the phases we pick up:"
   ]
  },
  {
   "cell_type": "code",
   "execution_count": 24,
   "id": "7db28357-e637-4c1e-b30a-23e29088c567",
   "metadata": {},
   "outputs": [
    {
     "data": {
      "text/plain": [
       "array([0, 2, 3, 4, 6, 6])"
      ]
     },
     "execution_count": 24,
     "metadata": {},
     "output_type": "execute_result"
    }
   ],
   "source": [
    "du.cumulative_scattering(representative_state)"
   ]
  },
  {
   "cell_type": "code",
   "execution_count": 25,
   "id": "3a7c4148-004f-4c2d-8581-d05a0ae2c13e",
   "metadata": {},
   "outputs": [
    {
     "name": "stdout",
     "output_type": "stream",
     "text": [
      "Find match for the 0-th analytical eigenstate\n",
      "Correct!\n",
      " > Eigenvector. Global phase difference of: -0.12074600138222319\n",
      "Find match for the 1-th analytical eigenstate\n",
      "Correct!\n",
      " > Eigenvector. Global phase difference of: -2.3020861709126232\n",
      "Find match for the 2-th analytical eigenstate\n",
      "Correct!\n",
      " > Eigenvector. Global phase difference of: 0.20748497732102764\n",
      "Find match for the 3-th analytical eigenstate\n",
      "Correct!\n",
      " > Eigenvector. Global phase difference of: 0.4690049422393043\n",
      "Find match for the 4-th analytical eigenstate\n",
      "Correct!\n",
      " > Eigenvector. Global phase difference of: -1.3818335150652337\n"
     ]
    }
   ],
   "source": [
    "# Checks whether the analytical expression matches the numerics\n",
    "\n",
    "numerical_eigenstates = analytical_model_sector.diagonalization[1]\n",
    "\n",
    "for _ in range(L):\n",
    "    print(\"Find match for the \" + str(_) + \"-th analytical eigenstate\")\n",
    "    for numerical in numerical_eigenstates.T:\n",
    "        correct, global_phase = qmb.same_state(du.circuit_eigenstate(phi, _, representative_state), numerical, return_differences=True)\n",
    "\n",
    "        if correct:\n",
    "            print(\"Correct!\\n > Eigenvector. Global phase difference of: \" + str(global_phase[0]))"
   ]
  }
 ],
 "metadata": {
  "kernelspec": {
   "display_name": "Python 3 (ipykernel)",
   "language": "python",
   "name": "python3"
  },
  "language_info": {
   "codemirror_mode": {
    "name": "ipython",
    "version": 3
   },
   "file_extension": ".py",
   "mimetype": "text/x-python",
   "name": "python",
   "nbconvert_exporter": "python",
   "pygments_lexer": "ipython3",
   "version": "3.12.10"
  },
  "scenes_data": {
   "active_scene": "Default Scene",
   "init_scene": "",
   "scenes": [
    "Default Scene"
   ]
  }
 },
 "nbformat": 4,
 "nbformat_minor": 5
}
